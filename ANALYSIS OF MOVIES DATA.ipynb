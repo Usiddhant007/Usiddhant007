{
 "cells": [
  {
   "cell_type": "code",
   "execution_count": 1,
   "id": "53c9f9e5",
   "metadata": {},
   "outputs": [],
   "source": [
    "import numpy as np\n",
    "import pandas as pd \n",
    "import matplotlib.pyplot as plt\n",
    "import seaborn as sns"
   ]
  },
  {
   "cell_type": "code",
   "execution_count": 2,
   "id": "f202e5a9",
   "metadata": {},
   "outputs": [],
   "source": [
    "#1 what were the average duration and rating of all movies?\n",
    "#2 ...... of movies in top 3 genres vs movies in remaining genres?\n",
    "#3 ...... of movies within each of the top 3 genres?\n",
    "\n",
    "#4 How distributed is the duration?\n",
    "#5 ..... between top 3 genres and remaining?\n",
    "#6 ...... among the top 3 genres?"
   ]
  },
  {
   "cell_type": "code",
   "execution_count": 3,
   "id": "eb2a9bd5",
   "metadata": {},
   "outputs": [],
   "source": [
    "movies=pd.read_csv(\"Movies.csv\")"
   ]
  },
  {
   "cell_type": "code",
   "execution_count": 4,
   "id": "4223ab81",
   "metadata": {},
   "outputs": [
    {
     "data": {
      "text/html": [
       "<div>\n",
       "<style scoped>\n",
       "    .dataframe tbody tr th:only-of-type {\n",
       "        vertical-align: middle;\n",
       "    }\n",
       "\n",
       "    .dataframe tbody tr th {\n",
       "        vertical-align: top;\n",
       "    }\n",
       "\n",
       "    .dataframe thead th {\n",
       "        text-align: right;\n",
       "    }\n",
       "</style>\n",
       "<table border=\"1\" class=\"dataframe\">\n",
       "  <thead>\n",
       "    <tr style=\"text-align: right;\">\n",
       "      <th></th>\n",
       "      <th>Year</th>\n",
       "      <th>Duration</th>\n",
       "      <th>Rating</th>\n",
       "      <th>Popularity</th>\n",
       "    </tr>\n",
       "  </thead>\n",
       "  <tbody>\n",
       "    <tr>\n",
       "      <th>count</th>\n",
       "      <td>5275.000000</td>\n",
       "      <td>5275.000000</td>\n",
       "      <td>5275.000000</td>\n",
       "      <td>5275.000000</td>\n",
       "    </tr>\n",
       "    <tr>\n",
       "      <th>mean</th>\n",
       "      <td>2010.899526</td>\n",
       "      <td>95.235261</td>\n",
       "      <td>5.379981</td>\n",
       "      <td>50.009486</td>\n",
       "    </tr>\n",
       "    <tr>\n",
       "      <th>std</th>\n",
       "      <td>4.842039</td>\n",
       "      <td>12.771222</td>\n",
       "      <td>1.248103</td>\n",
       "      <td>28.870229</td>\n",
       "    </tr>\n",
       "    <tr>\n",
       "      <th>min</th>\n",
       "      <td>2001.000000</td>\n",
       "      <td>46.000000</td>\n",
       "      <td>1.100000</td>\n",
       "      <td>0.050000</td>\n",
       "    </tr>\n",
       "    <tr>\n",
       "      <th>25%</th>\n",
       "      <td>2007.000000</td>\n",
       "      <td>87.000000</td>\n",
       "      <td>4.600000</td>\n",
       "      <td>25.030000</td>\n",
       "    </tr>\n",
       "    <tr>\n",
       "      <th>50%</th>\n",
       "      <td>2012.000000</td>\n",
       "      <td>93.000000</td>\n",
       "      <td>5.500000</td>\n",
       "      <td>50.020000</td>\n",
       "    </tr>\n",
       "    <tr>\n",
       "      <th>75%</th>\n",
       "      <td>2015.000000</td>\n",
       "      <td>101.000000</td>\n",
       "      <td>6.300000</td>\n",
       "      <td>75.005000</td>\n",
       "    </tr>\n",
       "    <tr>\n",
       "      <th>max</th>\n",
       "      <td>2018.000000</td>\n",
       "      <td>219.000000</td>\n",
       "      <td>9.700000</td>\n",
       "      <td>100.000000</td>\n",
       "    </tr>\n",
       "  </tbody>\n",
       "</table>\n",
       "</div>"
      ],
      "text/plain": [
       "              Year     Duration       Rating   Popularity\n",
       "count  5275.000000  5275.000000  5275.000000  5275.000000\n",
       "mean   2010.899526    95.235261     5.379981    50.009486\n",
       "std       4.842039    12.771222     1.248103    28.870229\n",
       "min    2001.000000    46.000000     1.100000     0.050000\n",
       "25%    2007.000000    87.000000     4.600000    25.030000\n",
       "50%    2012.000000    93.000000     5.500000    50.020000\n",
       "75%    2015.000000   101.000000     6.300000    75.005000\n",
       "max    2018.000000   219.000000     9.700000   100.000000"
      ]
     },
     "execution_count": 4,
     "metadata": {},
     "output_type": "execute_result"
    }
   ],
   "source": [
    "movies.describe()"
   ]
  },
  {
   "cell_type": "code",
   "execution_count": 5,
   "id": "ecdd8cb6",
   "metadata": {},
   "outputs": [
    {
     "data": {
      "text/plain": [
       "95.2352606635071"
      ]
     },
     "execution_count": 5,
     "metadata": {},
     "output_type": "execute_result"
    }
   ],
   "source": [
    "#1 what were the average duration and rating of all movies?\n",
    "movies.Duration.mean()"
   ]
  },
  {
   "cell_type": "code",
   "execution_count": 6,
   "id": "a6f67e81",
   "metadata": {},
   "outputs": [
    {
     "data": {
      "text/plain": [
       "5.379981042654029"
      ]
     },
     "execution_count": 6,
     "metadata": {},
     "output_type": "execute_result"
    }
   ],
   "source": [
    "movies.Rating.mean()"
   ]
  },
  {
   "cell_type": "code",
   "execution_count": 7,
   "id": "537533e1",
   "metadata": {},
   "outputs": [],
   "source": [
    "#2 ...... of movies in top 3 genres vs movies in remaining genres?"
   ]
  },
  {
   "cell_type": "code",
   "execution_count": 8,
   "id": "7e34ce6e",
   "metadata": {
    "scrolled": false
   },
   "outputs": [
    {
     "data": {
      "text/plain": [
       "Comedy    1670\n",
       "Drama     1187\n",
       "Action     751\n",
       "Name: Genre, dtype: int64"
      ]
     },
     "execution_count": 8,
     "metadata": {},
     "output_type": "execute_result"
    }
   ],
   "source": [
    "movies.Genre.value_counts()[0:3]"
   ]
  },
  {
   "cell_type": "code",
   "execution_count": 44,
   "id": "e099b1e1",
   "metadata": {},
   "outputs": [
    {
     "data": {
      "text/plain": [
       "219"
      ]
     },
     "execution_count": 44,
     "metadata": {},
     "output_type": "execute_result"
    }
   ],
   "source": [
    "movies.Duration.max()"
   ]
  },
  {
   "cell_type": "code",
   "execution_count": 9,
   "id": "d81ec23b",
   "metadata": {},
   "outputs": [
    {
     "data": {
      "text/plain": [
       "Comedy       1670\n",
       "Drama        1187\n",
       "Action        751\n",
       "Horror        689\n",
       "Crime         342\n",
       "Biography     144\n",
       "Animation     139\n",
       "Adventure     139\n",
       "Thriller       69\n",
       "Fantasy        45\n",
       "Sci-Fi         24\n",
       "Mystery        22\n",
       "Romance        21\n",
       "Family         17\n",
       "Music           6\n",
       "Musical         5\n",
       "Western         3\n",
       "History         1\n",
       "Sport           1\n",
       "Name: Genre, dtype: int64"
      ]
     },
     "execution_count": 9,
     "metadata": {},
     "output_type": "execute_result"
    }
   ],
   "source": [
    "movies.Genre.value_counts()"
   ]
  },
  {
   "cell_type": "code",
   "execution_count": 10,
   "id": "5ae61910",
   "metadata": {},
   "outputs": [],
   "source": [
    "top3genres=list(movies.Genre.value_counts()[0:3].index)"
   ]
  },
  {
   "cell_type": "code",
   "execution_count": 54,
   "id": "21c8b68c",
   "metadata": {
    "scrolled": true
   },
   "outputs": [
    {
     "data": {
      "text/html": [
       "<div>\n",
       "<style scoped>\n",
       "    .dataframe tbody tr th:only-of-type {\n",
       "        vertical-align: middle;\n",
       "    }\n",
       "\n",
       "    .dataframe tbody tr th {\n",
       "        vertical-align: top;\n",
       "    }\n",
       "\n",
       "    .dataframe thead th {\n",
       "        text-align: right;\n",
       "    }\n",
       "</style>\n",
       "<table border=\"1\" class=\"dataframe\">\n",
       "  <thead>\n",
       "    <tr style=\"text-align: right;\">\n",
       "      <th></th>\n",
       "      <th>Title</th>\n",
       "      <th>Year</th>\n",
       "      <th>Genre</th>\n",
       "      <th>Duration</th>\n",
       "      <th>Director</th>\n",
       "      <th>Rating</th>\n",
       "      <th>Popularity</th>\n",
       "      <th>TopGenre</th>\n",
       "    </tr>\n",
       "  </thead>\n",
       "  <tbody>\n",
       "    <tr>\n",
       "      <th>3260</th>\n",
       "      <td>Insectula!</td>\n",
       "      <td>2015</td>\n",
       "      <td>Comedy</td>\n",
       "      <td>101</td>\n",
       "      <td>Michael Peterson</td>\n",
       "      <td>4.7</td>\n",
       "      <td>9.41</td>\n",
       "      <td>Y</td>\n",
       "    </tr>\n",
       "    <tr>\n",
       "      <th>3261</th>\n",
       "      <td>Night Moves</td>\n",
       "      <td>2013</td>\n",
       "      <td>Drama</td>\n",
       "      <td>112</td>\n",
       "      <td>Kelly Reichardt</td>\n",
       "      <td>6.0</td>\n",
       "      <td>77.69</td>\n",
       "      <td>Y</td>\n",
       "    </tr>\n",
       "    <tr>\n",
       "      <th>3262</th>\n",
       "      <td>Starship</td>\n",
       "      <td>2011</td>\n",
       "      <td>Fantasy</td>\n",
       "      <td>172</td>\n",
       "      <td>Matt Lang</td>\n",
       "      <td>8.1</td>\n",
       "      <td>9.02</td>\n",
       "      <td>N</td>\n",
       "    </tr>\n",
       "    <tr>\n",
       "      <th>3263</th>\n",
       "      <td>Old Fashioned</td>\n",
       "      <td>2014</td>\n",
       "      <td>Drama</td>\n",
       "      <td>115</td>\n",
       "      <td>Rik Swartzwelder</td>\n",
       "      <td>5.2</td>\n",
       "      <td>45.83</td>\n",
       "      <td>Y</td>\n",
       "    </tr>\n",
       "    <tr>\n",
       "      <th>3264</th>\n",
       "      <td>AWOL-72</td>\n",
       "      <td>2015</td>\n",
       "      <td>Action</td>\n",
       "      <td>82</td>\n",
       "      <td>Christian Sesma</td>\n",
       "      <td>3.9</td>\n",
       "      <td>21.14</td>\n",
       "      <td>Y</td>\n",
       "    </tr>\n",
       "    <tr>\n",
       "      <th>3265</th>\n",
       "      <td>No Tell Motel</td>\n",
       "      <td>2013</td>\n",
       "      <td>Horror</td>\n",
       "      <td>84</td>\n",
       "      <td>Brett Donowho</td>\n",
       "      <td>3.5</td>\n",
       "      <td>40.59</td>\n",
       "      <td>N</td>\n",
       "    </tr>\n",
       "    <tr>\n",
       "      <th>3266</th>\n",
       "      <td>Synchronicity</td>\n",
       "      <td>2015</td>\n",
       "      <td>Drama</td>\n",
       "      <td>101</td>\n",
       "      <td>Jacob Gentry</td>\n",
       "      <td>5.5</td>\n",
       "      <td>73.65</td>\n",
       "      <td>Y</td>\n",
       "    </tr>\n",
       "    <tr>\n",
       "      <th>3267</th>\n",
       "      <td>Home Run</td>\n",
       "      <td>2013</td>\n",
       "      <td>Drama</td>\n",
       "      <td>113</td>\n",
       "      <td>David Boyd</td>\n",
       "      <td>5.9</td>\n",
       "      <td>54.40</td>\n",
       "      <td>Y</td>\n",
       "    </tr>\n",
       "    <tr>\n",
       "      <th>3268</th>\n",
       "      <td>Revenge for Jolly!</td>\n",
       "      <td>2012</td>\n",
       "      <td>Comedy</td>\n",
       "      <td>81</td>\n",
       "      <td>Chadd Harbold</td>\n",
       "      <td>4.6</td>\n",
       "      <td>36.37</td>\n",
       "      <td>Y</td>\n",
       "    </tr>\n",
       "    <tr>\n",
       "      <th>3269</th>\n",
       "      <td>Penthouse North</td>\n",
       "      <td>2013</td>\n",
       "      <td>Drama</td>\n",
       "      <td>90</td>\n",
       "      <td>Joseph Ruben</td>\n",
       "      <td>5.6</td>\n",
       "      <td>64.34</td>\n",
       "      <td>Y</td>\n",
       "    </tr>\n",
       "  </tbody>\n",
       "</table>\n",
       "</div>"
      ],
      "text/plain": [
       "                   Title  Year    Genre  Duration          Director  Rating  \\\n",
       "3260          Insectula!  2015   Comedy       101  Michael Peterson     4.7   \n",
       "3261         Night Moves  2013    Drama       112   Kelly Reichardt     6.0   \n",
       "3262            Starship  2011  Fantasy       172         Matt Lang     8.1   \n",
       "3263       Old Fashioned  2014    Drama       115  Rik Swartzwelder     5.2   \n",
       "3264             AWOL-72  2015   Action        82   Christian Sesma     3.9   \n",
       "3265       No Tell Motel  2013   Horror        84     Brett Donowho     3.5   \n",
       "3266       Synchronicity  2015    Drama       101      Jacob Gentry     5.5   \n",
       "3267            Home Run  2013    Drama       113        David Boyd     5.9   \n",
       "3268  Revenge for Jolly!  2012   Comedy        81     Chadd Harbold     4.6   \n",
       "3269     Penthouse North  2013    Drama        90      Joseph Ruben     5.6   \n",
       "\n",
       "      Popularity TopGenre  \n",
       "3260        9.41        Y  \n",
       "3261       77.69        Y  \n",
       "3262        9.02        N  \n",
       "3263       45.83        Y  \n",
       "3264       21.14        Y  \n",
       "3265       40.59        N  \n",
       "3266       73.65        Y  \n",
       "3267       54.40        Y  \n",
       "3268       36.37        Y  \n",
       "3269       64.34        Y  "
      ]
     },
     "execution_count": 54,
     "metadata": {},
     "output_type": "execute_result"
    }
   ],
   "source": [
    "movies[3260:3270]"
   ]
  },
  {
   "cell_type": "code",
   "execution_count": 62,
   "id": "51687bdb",
   "metadata": {},
   "outputs": [
    {
     "data": {
      "text/plain": [
       "Tyler Perry             15\n",
       "Timothy Woodward Jr.    10\n",
       "John Lyde               10\n",
       "Joe Swanberg            10\n",
       "James Franco             8\n",
       "                        ..\n",
       "John Alan Simon          1\n",
       "Abram Cox                1\n",
       "Peter Callahan           1\n",
       "Dan Baron                1\n",
       "Grant Duffrin            1\n",
       "Name: Director, Length: 3772, dtype: int64"
      ]
     },
     "execution_count": 62,
     "metadata": {},
     "output_type": "execute_result"
    }
   ],
   "source": [
    "movies.Director.value_counts()"
   ]
  },
  {
   "cell_type": "code",
   "execution_count": 12,
   "id": "d94595cf",
   "metadata": {},
   "outputs": [],
   "source": [
    "movies['TopGenre']=np.where(movies.Genre.isin(top3genres),'Y','N')"
   ]
  },
  {
   "cell_type": "code",
   "execution_count": 13,
   "id": "e514e243",
   "metadata": {},
   "outputs": [
    {
     "data": {
      "text/html": [
       "<div>\n",
       "<style scoped>\n",
       "    .dataframe tbody tr th:only-of-type {\n",
       "        vertical-align: middle;\n",
       "    }\n",
       "\n",
       "    .dataframe tbody tr th {\n",
       "        vertical-align: top;\n",
       "    }\n",
       "\n",
       "    .dataframe thead th {\n",
       "        text-align: right;\n",
       "    }\n",
       "</style>\n",
       "<table border=\"1\" class=\"dataframe\">\n",
       "  <thead>\n",
       "    <tr style=\"text-align: right;\">\n",
       "      <th></th>\n",
       "      <th>Title</th>\n",
       "      <th>Year</th>\n",
       "      <th>Genre</th>\n",
       "      <th>Duration</th>\n",
       "      <th>Director</th>\n",
       "      <th>Rating</th>\n",
       "      <th>Popularity</th>\n",
       "      <th>TopGenre</th>\n",
       "    </tr>\n",
       "  </thead>\n",
       "  <tbody>\n",
       "    <tr>\n",
       "      <th>0</th>\n",
       "      <td>What Is It?</td>\n",
       "      <td>2005</td>\n",
       "      <td>Drama</td>\n",
       "      <td>72</td>\n",
       "      <td>Crispin Glover</td>\n",
       "      <td>5.6</td>\n",
       "      <td>21.83</td>\n",
       "      <td>Y</td>\n",
       "    </tr>\n",
       "    <tr>\n",
       "      <th>1</th>\n",
       "      <td>Glitter</td>\n",
       "      <td>2001</td>\n",
       "      <td>Drama</td>\n",
       "      <td>104</td>\n",
       "      <td>Vondie Curtis-Hall</td>\n",
       "      <td>2.2</td>\n",
       "      <td>81.69</td>\n",
       "      <td>Y</td>\n",
       "    </tr>\n",
       "    <tr>\n",
       "      <th>2</th>\n",
       "      <td>The Attic Expeditions</td>\n",
       "      <td>2001</td>\n",
       "      <td>Comedy</td>\n",
       "      <td>100</td>\n",
       "      <td>Jeremy Kasten</td>\n",
       "      <td>5.0</td>\n",
       "      <td>42.08</td>\n",
       "      <td>Y</td>\n",
       "    </tr>\n",
       "    <tr>\n",
       "      <th>3</th>\n",
       "      <td>Men in Black II</td>\n",
       "      <td>2002</td>\n",
       "      <td>Action</td>\n",
       "      <td>88</td>\n",
       "      <td>Barry Sonnenfeld</td>\n",
       "      <td>6.2</td>\n",
       "      <td>98.60</td>\n",
       "      <td>Y</td>\n",
       "    </tr>\n",
       "    <tr>\n",
       "      <th>4</th>\n",
       "      <td>Star Wars: Episode II - Attack of the Clones</td>\n",
       "      <td>2002</td>\n",
       "      <td>Action</td>\n",
       "      <td>142</td>\n",
       "      <td>George Lucas</td>\n",
       "      <td>6.5</td>\n",
       "      <td>99.58</td>\n",
       "      <td>Y</td>\n",
       "    </tr>\n",
       "    <tr>\n",
       "      <th>...</th>\n",
       "      <td>...</td>\n",
       "      <td>...</td>\n",
       "      <td>...</td>\n",
       "      <td>...</td>\n",
       "      <td>...</td>\n",
       "      <td>...</td>\n",
       "      <td>...</td>\n",
       "      <td>...</td>\n",
       "    </tr>\n",
       "    <tr>\n",
       "      <th>5270</th>\n",
       "      <td>Bloodline</td>\n",
       "      <td>2018</td>\n",
       "      <td>Crime</td>\n",
       "      <td>97</td>\n",
       "      <td>Henry Jacobson</td>\n",
       "      <td>6.0</td>\n",
       "      <td>64.69</td>\n",
       "      <td>N</td>\n",
       "    </tr>\n",
       "    <tr>\n",
       "      <th>5271</th>\n",
       "      <td>The Princess Switch</td>\n",
       "      <td>2018</td>\n",
       "      <td>Comedy</td>\n",
       "      <td>101</td>\n",
       "      <td>Mike Rohl</td>\n",
       "      <td>6.0</td>\n",
       "      <td>80.21</td>\n",
       "      <td>Y</td>\n",
       "    </tr>\n",
       "    <tr>\n",
       "      <th>5272</th>\n",
       "      <td>You Might Be the Killer</td>\n",
       "      <td>2018</td>\n",
       "      <td>Comedy</td>\n",
       "      <td>92</td>\n",
       "      <td>Brett Simmons</td>\n",
       "      <td>5.9</td>\n",
       "      <td>61.14</td>\n",
       "      <td>Y</td>\n",
       "    </tr>\n",
       "    <tr>\n",
       "      <th>5273</th>\n",
       "      <td>The Final Wish</td>\n",
       "      <td>2018</td>\n",
       "      <td>Horror</td>\n",
       "      <td>95</td>\n",
       "      <td>Timothy Woodward Jr.</td>\n",
       "      <td>4.2</td>\n",
       "      <td>54.68</td>\n",
       "      <td>N</td>\n",
       "    </tr>\n",
       "    <tr>\n",
       "      <th>5274</th>\n",
       "      <td>Shrek Retold</td>\n",
       "      <td>2018</td>\n",
       "      <td>Animation</td>\n",
       "      <td>90</td>\n",
       "      <td>Grant Duffrin</td>\n",
       "      <td>7.5</td>\n",
       "      <td>26.07</td>\n",
       "      <td>N</td>\n",
       "    </tr>\n",
       "  </tbody>\n",
       "</table>\n",
       "<p>5275 rows × 8 columns</p>\n",
       "</div>"
      ],
      "text/plain": [
       "                                             Title  Year      Genre  Duration  \\\n",
       "0                                      What Is It?  2005      Drama        72   \n",
       "1                                          Glitter  2001      Drama       104   \n",
       "2                            The Attic Expeditions  2001     Comedy       100   \n",
       "3                                  Men in Black II  2002     Action        88   \n",
       "4     Star Wars: Episode II - Attack of the Clones  2002     Action       142   \n",
       "...                                            ...   ...        ...       ...   \n",
       "5270                                     Bloodline  2018      Crime        97   \n",
       "5271                           The Princess Switch  2018     Comedy       101   \n",
       "5272                       You Might Be the Killer  2018     Comedy        92   \n",
       "5273                                The Final Wish  2018     Horror        95   \n",
       "5274                                  Shrek Retold  2018  Animation        90   \n",
       "\n",
       "                  Director  Rating  Popularity TopGenre  \n",
       "0           Crispin Glover     5.6       21.83        Y  \n",
       "1       Vondie Curtis-Hall     2.2       81.69        Y  \n",
       "2            Jeremy Kasten     5.0       42.08        Y  \n",
       "3         Barry Sonnenfeld     6.2       98.60        Y  \n",
       "4             George Lucas     6.5       99.58        Y  \n",
       "...                    ...     ...         ...      ...  \n",
       "5270        Henry Jacobson     6.0       64.69        N  \n",
       "5271             Mike Rohl     6.0       80.21        Y  \n",
       "5272         Brett Simmons     5.9       61.14        Y  \n",
       "5273  Timothy Woodward Jr.     4.2       54.68        N  \n",
       "5274         Grant Duffrin     7.5       26.07        N  \n",
       "\n",
       "[5275 rows x 8 columns]"
      ]
     },
     "execution_count": 13,
     "metadata": {},
     "output_type": "execute_result"
    }
   ],
   "source": [
    "movies"
   ]
  },
  {
   "cell_type": "code",
   "execution_count": 14,
   "id": "4c94bc01",
   "metadata": {},
   "outputs": [
    {
     "data": {
      "text/html": [
       "<div>\n",
       "<style scoped>\n",
       "    .dataframe tbody tr th:only-of-type {\n",
       "        vertical-align: middle;\n",
       "    }\n",
       "\n",
       "    .dataframe tbody tr th {\n",
       "        vertical-align: top;\n",
       "    }\n",
       "\n",
       "    .dataframe thead th {\n",
       "        text-align: right;\n",
       "    }\n",
       "</style>\n",
       "<table border=\"1\" class=\"dataframe\">\n",
       "  <thead>\n",
       "    <tr style=\"text-align: right;\">\n",
       "      <th></th>\n",
       "      <th>Duration</th>\n",
       "      <th>Rating</th>\n",
       "    </tr>\n",
       "    <tr>\n",
       "      <th>TopGenre</th>\n",
       "      <th></th>\n",
       "      <th></th>\n",
       "    </tr>\n",
       "  </thead>\n",
       "  <tbody>\n",
       "    <tr>\n",
       "      <th>N</th>\n",
       "      <td>93.668866</td>\n",
       "      <td>5.158188</td>\n",
       "    </tr>\n",
       "    <tr>\n",
       "      <th>Y</th>\n",
       "      <td>95.958980</td>\n",
       "      <td>5.482456</td>\n",
       "    </tr>\n",
       "  </tbody>\n",
       "</table>\n",
       "</div>"
      ],
      "text/plain": [
       "           Duration    Rating\n",
       "TopGenre                     \n",
       "N         93.668866  5.158188\n",
       "Y         95.958980  5.482456"
      ]
     },
     "execution_count": 14,
     "metadata": {},
     "output_type": "execute_result"
    }
   ],
   "source": [
    "movies.loc[:,['Duration','Rating','TopGenre']].groupby('TopGenre').mean()"
   ]
  },
  {
   "cell_type": "code",
   "execution_count": 15,
   "id": "c61baf56",
   "metadata": {},
   "outputs": [],
   "source": [
    "#3 ...... of movies within each of the top 3 genres?"
   ]
  },
  {
   "cell_type": "code",
   "execution_count": 16,
   "id": "0a3f1d1c",
   "metadata": {},
   "outputs": [
    {
     "data": {
      "text/html": [
       "<div>\n",
       "<style scoped>\n",
       "    .dataframe tbody tr th:only-of-type {\n",
       "        vertical-align: middle;\n",
       "    }\n",
       "\n",
       "    .dataframe tbody tr th {\n",
       "        vertical-align: top;\n",
       "    }\n",
       "\n",
       "    .dataframe thead th {\n",
       "        text-align: right;\n",
       "    }\n",
       "</style>\n",
       "<table border=\"1\" class=\"dataframe\">\n",
       "  <thead>\n",
       "    <tr style=\"text-align: right;\">\n",
       "      <th></th>\n",
       "      <th>Duration</th>\n",
       "      <th>Rating</th>\n",
       "    </tr>\n",
       "    <tr>\n",
       "      <th>Genre</th>\n",
       "      <th></th>\n",
       "      <th></th>\n",
       "    </tr>\n",
       "  </thead>\n",
       "  <tbody>\n",
       "    <tr>\n",
       "      <th>Action</th>\n",
       "      <td>96.390146</td>\n",
       "      <td>4.838083</td>\n",
       "    </tr>\n",
       "    <tr>\n",
       "      <th>Comedy</th>\n",
       "      <td>94.711377</td>\n",
       "      <td>5.551317</td>\n",
       "    </tr>\n",
       "    <tr>\n",
       "      <th>Drama</th>\n",
       "      <td>97.441449</td>\n",
       "      <td>5.793260</td>\n",
       "    </tr>\n",
       "  </tbody>\n",
       "</table>\n",
       "</div>"
      ],
      "text/plain": [
       "         Duration    Rating\n",
       "Genre                      \n",
       "Action  96.390146  4.838083\n",
       "Comedy  94.711377  5.551317\n",
       "Drama   97.441449  5.793260"
      ]
     },
     "execution_count": 16,
     "metadata": {},
     "output_type": "execute_result"
    }
   ],
   "source": [
    "movies.loc[movies.TopGenre=='Y',['Duration','Rating','Genre']].groupby('Genre').mean()"
   ]
  },
  {
   "cell_type": "code",
   "execution_count": 17,
   "id": "a2c6754a",
   "metadata": {},
   "outputs": [],
   "source": [
    "#4 How distributed is the duration?"
   ]
  },
  {
   "cell_type": "code",
   "execution_count": 18,
   "id": "0398af0a",
   "metadata": {},
   "outputs": [
    {
     "name": "stderr",
     "output_type": "stream",
     "text": [
      "C:\\Users\\Sidd-pc\\AppData\\Local\\Temp\\ipykernel_4780\\2009047848.py:1: UserWarning: \n",
      "\n",
      "`distplot` is a deprecated function and will be removed in seaborn v0.14.0.\n",
      "\n",
      "Please adapt your code to use either `displot` (a figure-level function with\n",
      "similar flexibility) or `histplot` (an axes-level function for histograms).\n",
      "\n",
      "For a guide to updating your code to use the new functions, please see\n",
      "https://gist.github.com/mwaskom/de44147ed2974457ad6372750bbe5751\n",
      "\n",
      "  sns.distplot(movies.Duration);\n"
     ]
    },
    {
     "data": {
      "image/png": "[encoded data removed]",
      "text/plain": [
       "<Figure size 640x480 with 1 Axes>"
      ]
     },
     "metadata": {},
     "output_type": "display_data"
    }
   ],
   "source": [
    "sns.distplot(movies.Duration);"
   ]
  },
  {
   "cell_type": "code",
   "execution_count": 19,
   "id": "df62aa05",
   "metadata": {},
   "outputs": [
    {
     "data": {
      "text/plain": [
       "<Axes: xlabel='Duration'>"
      ]
     },
     "execution_count": 19,
     "metadata": {},
     "output_type": "execute_result"
    },
    {
     "data": {
      "image/png": "[encoded data removed]",
      "text/plain": [
       "<Figure size 640x480 with 1 Axes>"
      ]
     },
     "metadata": {},
     "output_type": "display_data"
    }
   ],
   "source": [
    "sns.boxplot(x=movies.Duration)"
   ]
  },
  {
   "cell_type": "code",
   "execution_count": 20,
   "id": "fe796d52",
   "metadata": {},
   "outputs": [
    {
     "data": {
      "text/plain": [
       "count    5275.000000\n",
       "mean       95.235261\n",
       "std        12.771222\n",
       "min        46.000000\n",
       "25%        87.000000\n",
       "50%        93.000000\n",
       "75%       101.000000\n",
       "max       219.000000\n",
       "Name: Duration, dtype: float64"
      ]
     },
     "execution_count": 20,
     "metadata": {},
     "output_type": "execute_result"
    }
   ],
   "source": [
    "movies.Duration.describe()"
   ]
  },
  {
   "cell_type": "code",
   "execution_count": 21,
   "id": "8ad9b2dd",
   "metadata": {},
   "outputs": [],
   "source": [
    "#5 ..... between top 3 genres and remaining?"
   ]
  },
  {
   "cell_type": "code",
   "execution_count": 22,
   "id": "00ef98a2",
   "metadata": {},
   "outputs": [
    {
     "data": {
      "text/html": [
       "<div>\n",
       "<style scoped>\n",
       "    .dataframe tbody tr th:only-of-type {\n",
       "        vertical-align: middle;\n",
       "    }\n",
       "\n",
       "    .dataframe tbody tr th {\n",
       "        vertical-align: top;\n",
       "    }\n",
       "\n",
       "    .dataframe thead tr th {\n",
       "        text-align: left;\n",
       "    }\n",
       "\n",
       "    .dataframe thead tr:last-of-type th {\n",
       "        text-align: right;\n",
       "    }\n",
       "</style>\n",
       "<table border=\"1\" class=\"dataframe\">\n",
       "  <thead>\n",
       "    <tr>\n",
       "      <th></th>\n",
       "      <th colspan=\"8\" halign=\"left\">Duration</th>\n",
       "      <th colspan=\"8\" halign=\"left\">Rating</th>\n",
       "    </tr>\n",
       "    <tr>\n",
       "      <th></th>\n",
       "      <th>count</th>\n",
       "      <th>mean</th>\n",
       "      <th>std</th>\n",
       "      <th>min</th>\n",
       "      <th>25%</th>\n",
       "      <th>50%</th>\n",
       "      <th>75%</th>\n",
       "      <th>max</th>\n",
       "      <th>count</th>\n",
       "      <th>mean</th>\n",
       "      <th>std</th>\n",
       "      <th>min</th>\n",
       "      <th>25%</th>\n",
       "      <th>50%</th>\n",
       "      <th>75%</th>\n",
       "      <th>max</th>\n",
       "    </tr>\n",
       "    <tr>\n",
       "      <th>TopGenre</th>\n",
       "      <th></th>\n",
       "      <th></th>\n",
       "      <th></th>\n",
       "      <th></th>\n",
       "      <th></th>\n",
       "      <th></th>\n",
       "      <th></th>\n",
       "      <th></th>\n",
       "      <th></th>\n",
       "      <th></th>\n",
       "      <th></th>\n",
       "      <th></th>\n",
       "      <th></th>\n",
       "      <th></th>\n",
       "      <th></th>\n",
       "      <th></th>\n",
       "    </tr>\n",
       "  </thead>\n",
       "  <tbody>\n",
       "    <tr>\n",
       "      <th>N</th>\n",
       "      <td>1667.0</td>\n",
       "      <td>93.668866</td>\n",
       "      <td>13.370454</td>\n",
       "      <td>46.0</td>\n",
       "      <td>85.0</td>\n",
       "      <td>91.0</td>\n",
       "      <td>100.0</td>\n",
       "      <td>219.0</td>\n",
       "      <td>1667.0</td>\n",
       "      <td>5.158188</td>\n",
       "      <td>1.343893</td>\n",
       "      <td>1.2</td>\n",
       "      <td>4.2</td>\n",
       "      <td>5.2</td>\n",
       "      <td>6.1</td>\n",
       "      <td>9.2</td>\n",
       "    </tr>\n",
       "    <tr>\n",
       "      <th>Y</th>\n",
       "      <td>3608.0</td>\n",
       "      <td>95.958980</td>\n",
       "      <td>12.419990</td>\n",
       "      <td>47.0</td>\n",
       "      <td>88.0</td>\n",
       "      <td>94.0</td>\n",
       "      <td>102.0</td>\n",
       "      <td>180.0</td>\n",
       "      <td>3608.0</td>\n",
       "      <td>5.482456</td>\n",
       "      <td>1.187550</td>\n",
       "      <td>1.1</td>\n",
       "      <td>4.8</td>\n",
       "      <td>5.6</td>\n",
       "      <td>6.3</td>\n",
       "      <td>9.7</td>\n",
       "    </tr>\n",
       "  </tbody>\n",
       "</table>\n",
       "</div>"
      ],
      "text/plain": [
       "         Duration                                                        \\\n",
       "            count       mean        std   min   25%   50%    75%    max   \n",
       "TopGenre                                                                  \n",
       "N          1667.0  93.668866  13.370454  46.0  85.0  91.0  100.0  219.0   \n",
       "Y          3608.0  95.958980  12.419990  47.0  88.0  94.0  102.0  180.0   \n",
       "\n",
       "          Rating                                               \n",
       "           count      mean       std  min  25%  50%  75%  max  \n",
       "TopGenre                                                       \n",
       "N         1667.0  5.158188  1.343893  1.2  4.2  5.2  6.1  9.2  \n",
       "Y         3608.0  5.482456  1.187550  1.1  4.8  5.6  6.3  9.7  "
      ]
     },
     "execution_count": 22,
     "metadata": {},
     "output_type": "execute_result"
    }
   ],
   "source": [
    "movies.loc[:,['Duration','Rating','TopGenre']].groupby('TopGenre').describe()"
   ]
  },
  {
   "cell_type": "code",
   "execution_count": 23,
   "id": "08d03b5f",
   "metadata": {},
   "outputs": [
    {
     "data": {
      "text/plain": [
       "<Axes: xlabel='Duration', ylabel='TopGenre'>"
      ]
     },
     "execution_count": 23,
     "metadata": {},
     "output_type": "execute_result"
    },
    {
     "data": {
      "image/png": "[encoded data removed]",
      "text/plain": [
       "<Figure size 640x480 with 1 Axes>"
      ]
     },
     "metadata": {},
     "output_type": "display_data"
    }
   ],
   "source": [
    "sns.boxplot(x=movies.Duration,y=movies.TopGenre)"
   ]
  },
  {
   "cell_type": "code",
   "execution_count": 24,
   "id": "e8d9d6b0",
   "metadata": {},
   "outputs": [
    {
     "data": {
      "text/html": [
       "<div>\n",
       "<style scoped>\n",
       "    .dataframe tbody tr th:only-of-type {\n",
       "        vertical-align: middle;\n",
       "    }\n",
       "\n",
       "    .dataframe tbody tr th {\n",
       "        vertical-align: top;\n",
       "    }\n",
       "\n",
       "    .dataframe thead th {\n",
       "        text-align: right;\n",
       "    }\n",
       "</style>\n",
       "<table border=\"1\" class=\"dataframe\">\n",
       "  <thead>\n",
       "    <tr style=\"text-align: right;\">\n",
       "      <th></th>\n",
       "      <th>Duration</th>\n",
       "      <th>Genre</th>\n",
       "    </tr>\n",
       "  </thead>\n",
       "  <tbody>\n",
       "    <tr>\n",
       "      <th>0</th>\n",
       "      <td>72</td>\n",
       "      <td>Drama</td>\n",
       "    </tr>\n",
       "    <tr>\n",
       "      <th>1</th>\n",
       "      <td>104</td>\n",
       "      <td>Drama</td>\n",
       "    </tr>\n",
       "    <tr>\n",
       "      <th>2</th>\n",
       "      <td>100</td>\n",
       "      <td>Comedy</td>\n",
       "    </tr>\n",
       "    <tr>\n",
       "      <th>3</th>\n",
       "      <td>88</td>\n",
       "      <td>Action</td>\n",
       "    </tr>\n",
       "    <tr>\n",
       "      <th>4</th>\n",
       "      <td>142</td>\n",
       "      <td>Action</td>\n",
       "    </tr>\n",
       "    <tr>\n",
       "      <th>...</th>\n",
       "      <td>...</td>\n",
       "      <td>...</td>\n",
       "    </tr>\n",
       "    <tr>\n",
       "      <th>5263</th>\n",
       "      <td>81</td>\n",
       "      <td>Comedy</td>\n",
       "    </tr>\n",
       "    <tr>\n",
       "      <th>5267</th>\n",
       "      <td>92</td>\n",
       "      <td>Drama</td>\n",
       "    </tr>\n",
       "    <tr>\n",
       "      <th>5268</th>\n",
       "      <td>74</td>\n",
       "      <td>Action</td>\n",
       "    </tr>\n",
       "    <tr>\n",
       "      <th>5271</th>\n",
       "      <td>101</td>\n",
       "      <td>Comedy</td>\n",
       "    </tr>\n",
       "    <tr>\n",
       "      <th>5272</th>\n",
       "      <td>92</td>\n",
       "      <td>Comedy</td>\n",
       "    </tr>\n",
       "  </tbody>\n",
       "</table>\n",
       "<p>3608 rows × 2 columns</p>\n",
       "</div>"
      ],
      "text/plain": [
       "      Duration   Genre\n",
       "0           72   Drama\n",
       "1          104   Drama\n",
       "2          100  Comedy\n",
       "3           88  Action\n",
       "4          142  Action\n",
       "...        ...     ...\n",
       "5263        81  Comedy\n",
       "5267        92   Drama\n",
       "5268        74  Action\n",
       "5271       101  Comedy\n",
       "5272        92  Comedy\n",
       "\n",
       "[3608 rows x 2 columns]"
      ]
     },
     "execution_count": 24,
     "metadata": {},
     "output_type": "execute_result"
    }
   ],
   "source": [
    "topgenremovies=movies.loc[movies.TopGenre=='Y',['Duration','Genre']]\n",
    "topgenremovies"
   ]
  },
  {
   "cell_type": "code",
   "execution_count": 25,
   "id": "d55a084a",
   "metadata": {},
   "outputs": [
    {
     "data": {
      "text/plain": [
       "<Axes: xlabel='Duration', ylabel='Genre'>"
      ]
     },
     "execution_count": 25,
     "metadata": {},
     "output_type": "execute_result"
    },
    {
     "data": {
      "image/png": "[encoded data removed]",
      "text/plain": [
       "<Figure size 640x480 with 1 Axes>"
      ]
     },
     "metadata": {},
     "output_type": "display_data"
    }
   ],
   "source": [
    "sns.boxplot(x=topgenremovies.Duration,y=topgenremovies.Genre)"
   ]
  },
  {
   "cell_type": "code",
   "execution_count": 63,
   "id": "a416807c",
   "metadata": {},
   "outputs": [],
   "source": [
    "import scipy.stats as ss"
   ]
  },
  {
   "cell_type": "code",
   "execution_count": 64,
   "id": "070e4d4c",
   "metadata": {},
   "outputs": [
    {
     "data": {
      "text/plain": [
       "0.07656372550983476"
      ]
     },
     "execution_count": 64,
     "metadata": {},
     "output_type": "execute_result"
    }
   ],
   "source": [
    "ss.norm.cdf(x=120, loc=150,scale=21)"
   ]
  },
  {
   "cell_type": "code",
   "execution_count": null,
   "id": "b0f9cabc",
   "metadata": {},
   "outputs": [],
   "source": []
  }
 ],
 "metadata": {
  "kernelspec": {
   "display_name": "Python 3 (ipykernel)",
   "language": "python",
   "name": "python3"
  },
  "language_info": {
   "codemirror_mode": {
    "name": "ipython",
    "version": 3
   },
   "file_extension": ".py",
   "mimetype": "text/x-python",
   "name": "python",
   "nbconvert_exporter": "python",
   "pygments_lexer": "ipython3",
   "version": "3.11.4"
  }
 },
 "nbformat": 4,
 "nbformat_minor": 5
}
