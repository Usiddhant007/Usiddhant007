{
 "cells": [
  {
   "cell_type": "code",
   "execution_count": 1,
   "id": "3fc19161",
   "metadata": {},
   "outputs": [
    {
     "name": "stdout",
     "output_type": "stream",
     "text": [
      "Requirement already satisfied: bioinfokit in c:\\users\\sidd-pc\\anaconda3\\lib\\site-packages (2.1.3)\n",
      "Requirement already satisfied: pandas in c:\\users\\sidd-pc\\anaconda3\\lib\\site-packages (from bioinfokit) (1.5.3)\n",
      "Requirement already satisfied: numpy in c:\\users\\sidd-pc\\anaconda3\\lib\\site-packages (from bioinfokit) (1.24.3)\n",
      "Requirement already satisfied: matplotlib in c:\\users\\sidd-pc\\anaconda3\\lib\\site-packages (from bioinfokit) (3.7.1)\n",
      "Requirement already satisfied: scipy in c:\\users\\sidd-pc\\anaconda3\\lib\\site-packages (from bioinfokit) (1.10.1)\n",
      "Requirement already satisfied: scikit-learn in c:\\users\\sidd-pc\\anaconda3\\lib\\site-packages (from bioinfokit) (1.3.0)\n",
      "Requirement already satisfied: seaborn in c:\\users\\sidd-pc\\anaconda3\\lib\\site-packages (from bioinfokit) (0.12.2)\n",
      "Requirement already satisfied: matplotlib-venn in c:\\users\\sidd-pc\\anaconda3\\lib\\site-packages (from bioinfokit) (0.11.9)\n",
      "Requirement already satisfied: tabulate in c:\\users\\sidd-pc\\anaconda3\\lib\\site-packages (from bioinfokit) (0.8.10)\n",
      "Requirement already satisfied: statsmodels in c:\\users\\sidd-pc\\anaconda3\\lib\\site-packages (from bioinfokit) (0.14.0)\n",
      "Requirement already satisfied: textwrap3 in c:\\users\\sidd-pc\\anaconda3\\lib\\site-packages (from bioinfokit) (0.9.2)\n",
      "Requirement already satisfied: adjustText in c:\\users\\sidd-pc\\anaconda3\\lib\\site-packages (from bioinfokit) (0.8)\n",
      "Requirement already satisfied: contourpy>=1.0.1 in c:\\users\\sidd-pc\\anaconda3\\lib\\site-packages (from matplotlib->bioinfokit) (1.0.5)\n",
      "Requirement already satisfied: cycler>=0.10 in c:\\users\\sidd-pc\\anaconda3\\lib\\site-packages (from matplotlib->bioinfokit) (0.11.0)\n",
      "Requirement already satisfied: fonttools>=4.22.0 in c:\\users\\sidd-pc\\anaconda3\\lib\\site-packages (from matplotlib->bioinfokit) (4.25.0)\n",
      "Requirement already satisfied: kiwisolver>=1.0.1 in c:\\users\\sidd-pc\\anaconda3\\lib\\site-packages (from matplotlib->bioinfokit) (1.4.4)\n",
      "Requirement already satisfied: packaging>=20.0 in c:\\users\\sidd-pc\\anaconda3\\lib\\site-packages (from matplotlib->bioinfokit) (23.0)\n",
      "Requirement already satisfied: pillow>=6.2.0 in c:\\users\\sidd-pc\\anaconda3\\lib\\site-packages (from matplotlib->bioinfokit) (9.4.0)\n",
      "Requirement already satisfied: pyparsing>=2.3.1 in c:\\users\\sidd-pc\\anaconda3\\lib\\site-packages (from matplotlib->bioinfokit) (3.0.9)\n",
      "Requirement already satisfied: python-dateutil>=2.7 in c:\\users\\sidd-pc\\anaconda3\\lib\\site-packages (from matplotlib->bioinfokit) (2.8.2)\n",
      "Requirement already satisfied: pytz>=2020.1 in c:\\users\\sidd-pc\\anaconda3\\lib\\site-packages (from pandas->bioinfokit) (2022.7)\n",
      "Requirement already satisfied: joblib>=1.1.1 in c:\\users\\sidd-pc\\anaconda3\\lib\\site-packages (from scikit-learn->bioinfokit) (1.2.0)\n",
      "Requirement already satisfied: threadpoolctl>=2.0.0 in c:\\users\\sidd-pc\\anaconda3\\lib\\site-packages (from scikit-learn->bioinfokit) (2.2.0)\n",
      "Requirement already satisfied: patsy>=0.5.2 in c:\\users\\sidd-pc\\anaconda3\\lib\\site-packages (from statsmodels->bioinfokit) (0.5.3)\n",
      "Requirement already satisfied: six in c:\\users\\sidd-pc\\anaconda3\\lib\\site-packages (from patsy>=0.5.2->statsmodels->bioinfokit) (1.16.0)\n",
      "Note: you may need to restart the kernel to use updated packages.\n"
     ]
    }
   ],
   "source": [
    "pip install bioinfokit"
   ]
  },
  {
   "cell_type": "code",
   "execution_count": 2,
   "id": "507803f5",
   "metadata": {},
   "outputs": [],
   "source": [
    "import numpy as np\n",
    "import pandas as pd\n",
    "import seaborn as sns\n",
    "import matplotlib.pyplot as plt\n",
    "from statsmodels.formula.api import ols\n",
    "from statsmodels.stats.anova import anova_lm\n",
    "from scipy import stats\n",
    "from bioinfokit.analys import stat\n"
   ]
  },
  {
   "cell_type": "code",
   "execution_count": 3,
   "id": "08ca07f6",
   "metadata": {},
   "outputs": [
    {
     "data": {
      "text/html": [
       "<div>\n",
       "<style scoped>\n",
       "    .dataframe tbody tr th:only-of-type {\n",
       "        vertical-align: middle;\n",
       "    }\n",
       "\n",
       "    .dataframe tbody tr th {\n",
       "        vertical-align: top;\n",
       "    }\n",
       "\n",
       "    .dataframe thead th {\n",
       "        text-align: right;\n",
       "    }\n",
       "</style>\n",
       "<table border=\"1\" class=\"dataframe\">\n",
       "  <thead>\n",
       "    <tr style=\"text-align: right;\">\n",
       "      <th></th>\n",
       "      <th>gender</th>\n",
       "      <th>Age</th>\n",
       "      <th>Height</th>\n",
       "      <th>preweight</th>\n",
       "      <th>Diet</th>\n",
       "      <th>weight6weeks</th>\n",
       "    </tr>\n",
       "  </thead>\n",
       "  <tbody>\n",
       "    <tr>\n",
       "      <th>0</th>\n",
       "      <td>Female</td>\n",
       "      <td>22</td>\n",
       "      <td>159</td>\n",
       "      <td>58</td>\n",
       "      <td>1</td>\n",
       "      <td>54.2</td>\n",
       "    </tr>\n",
       "    <tr>\n",
       "      <th>1</th>\n",
       "      <td>Female</td>\n",
       "      <td>46</td>\n",
       "      <td>192</td>\n",
       "      <td>60</td>\n",
       "      <td>1</td>\n",
       "      <td>54.0</td>\n",
       "    </tr>\n",
       "    <tr>\n",
       "      <th>2</th>\n",
       "      <td>Female</td>\n",
       "      <td>55</td>\n",
       "      <td>170</td>\n",
       "      <td>64</td>\n",
       "      <td>1</td>\n",
       "      <td>63.3</td>\n",
       "    </tr>\n",
       "    <tr>\n",
       "      <th>3</th>\n",
       "      <td>Female</td>\n",
       "      <td>33</td>\n",
       "      <td>171</td>\n",
       "      <td>64</td>\n",
       "      <td>1</td>\n",
       "      <td>61.1</td>\n",
       "    </tr>\n",
       "    <tr>\n",
       "      <th>4</th>\n",
       "      <td>Female</td>\n",
       "      <td>50</td>\n",
       "      <td>170</td>\n",
       "      <td>65</td>\n",
       "      <td>1</td>\n",
       "      <td>62.2</td>\n",
       "    </tr>\n",
       "    <tr>\n",
       "      <th>...</th>\n",
       "      <td>...</td>\n",
       "      <td>...</td>\n",
       "      <td>...</td>\n",
       "      <td>...</td>\n",
       "      <td>...</td>\n",
       "      <td>...</td>\n",
       "    </tr>\n",
       "    <tr>\n",
       "      <th>71</th>\n",
       "      <td>Male</td>\n",
       "      <td>35</td>\n",
       "      <td>183</td>\n",
       "      <td>83</td>\n",
       "      <td>3</td>\n",
       "      <td>80.2</td>\n",
       "    </tr>\n",
       "    <tr>\n",
       "      <th>72</th>\n",
       "      <td>Male</td>\n",
       "      <td>49</td>\n",
       "      <td>177</td>\n",
       "      <td>84</td>\n",
       "      <td>3</td>\n",
       "      <td>79.9</td>\n",
       "    </tr>\n",
       "    <tr>\n",
       "      <th>73</th>\n",
       "      <td>Male</td>\n",
       "      <td>28</td>\n",
       "      <td>164</td>\n",
       "      <td>85</td>\n",
       "      <td>3</td>\n",
       "      <td>79.7</td>\n",
       "    </tr>\n",
       "    <tr>\n",
       "      <th>74</th>\n",
       "      <td>Male</td>\n",
       "      <td>40</td>\n",
       "      <td>167</td>\n",
       "      <td>87</td>\n",
       "      <td>3</td>\n",
       "      <td>77.8</td>\n",
       "    </tr>\n",
       "    <tr>\n",
       "      <th>75</th>\n",
       "      <td>Male</td>\n",
       "      <td>51</td>\n",
       "      <td>175</td>\n",
       "      <td>88</td>\n",
       "      <td>3</td>\n",
       "      <td>81.9</td>\n",
       "    </tr>\n",
       "  </tbody>\n",
       "</table>\n",
       "<p>76 rows × 6 columns</p>\n",
       "</div>"
      ],
      "text/plain": [
       "    gender  Age  Height  preweight  Diet  weight6weeks\n",
       "0   Female   22     159         58     1          54.2\n",
       "1   Female   46     192         60     1          54.0\n",
       "2   Female   55     170         64     1          63.3\n",
       "3   Female   33     171         64     1          61.1\n",
       "4   Female   50     170         65     1          62.2\n",
       "..     ...  ...     ...        ...   ...           ...\n",
       "71    Male   35     183         83     3          80.2\n",
       "72    Male   49     177         84     3          79.9\n",
       "73    Male   28     164         85     3          79.7\n",
       "74    Male   40     167         87     3          77.8\n",
       "75    Male   51     175         88     3          81.9\n",
       "\n",
       "[76 rows x 6 columns]"
      ]
     },
     "execution_count": 3,
     "metadata": {},
     "output_type": "execute_result"
    }
   ],
   "source": [
    "df=pd.read_csv('Diet.csv')\n",
    "df"
   ]
  },
  {
   "cell_type": "code",
   "execution_count": 4,
   "id": "20e142d6",
   "metadata": {},
   "outputs": [
    {
     "data": {
      "text/plain": [
       "(76, 6)"
      ]
     },
     "execution_count": 4,
     "metadata": {},
     "output_type": "execute_result"
    }
   ],
   "source": [
    "df.shape"
   ]
  },
  {
   "cell_type": "code",
   "execution_count": 5,
   "id": "38e3a55c",
   "metadata": {},
   "outputs": [],
   "source": [
    "#2 way  ANOVA=> dIET +geNDER"
   ]
  },
  {
   "cell_type": "code",
   "execution_count": 6,
   "id": "5cadc18d",
   "metadata": {},
   "outputs": [
    {
     "data": {
      "text/html": [
       "<div>\n",
       "<style scoped>\n",
       "    .dataframe tbody tr th:only-of-type {\n",
       "        vertical-align: middle;\n",
       "    }\n",
       "\n",
       "    .dataframe tbody tr th {\n",
       "        vertical-align: top;\n",
       "    }\n",
       "\n",
       "    .dataframe thead th {\n",
       "        text-align: right;\n",
       "    }\n",
       "</style>\n",
       "<table border=\"1\" class=\"dataframe\">\n",
       "  <thead>\n",
       "    <tr style=\"text-align: right;\">\n",
       "      <th></th>\n",
       "      <th>gender</th>\n",
       "      <th>Age</th>\n",
       "      <th>Height</th>\n",
       "      <th>preweight</th>\n",
       "      <th>Diet</th>\n",
       "      <th>weight6weeks</th>\n",
       "      <th>wtloss</th>\n",
       "    </tr>\n",
       "  </thead>\n",
       "  <tbody>\n",
       "    <tr>\n",
       "      <th>0</th>\n",
       "      <td>Female</td>\n",
       "      <td>22</td>\n",
       "      <td>159</td>\n",
       "      <td>58</td>\n",
       "      <td>1</td>\n",
       "      <td>54.2</td>\n",
       "      <td>3.8</td>\n",
       "    </tr>\n",
       "    <tr>\n",
       "      <th>1</th>\n",
       "      <td>Female</td>\n",
       "      <td>46</td>\n",
       "      <td>192</td>\n",
       "      <td>60</td>\n",
       "      <td>1</td>\n",
       "      <td>54.0</td>\n",
       "      <td>6.0</td>\n",
       "    </tr>\n",
       "    <tr>\n",
       "      <th>2</th>\n",
       "      <td>Female</td>\n",
       "      <td>55</td>\n",
       "      <td>170</td>\n",
       "      <td>64</td>\n",
       "      <td>1</td>\n",
       "      <td>63.3</td>\n",
       "      <td>0.7</td>\n",
       "    </tr>\n",
       "    <tr>\n",
       "      <th>3</th>\n",
       "      <td>Female</td>\n",
       "      <td>33</td>\n",
       "      <td>171</td>\n",
       "      <td>64</td>\n",
       "      <td>1</td>\n",
       "      <td>61.1</td>\n",
       "      <td>2.9</td>\n",
       "    </tr>\n",
       "    <tr>\n",
       "      <th>4</th>\n",
       "      <td>Female</td>\n",
       "      <td>50</td>\n",
       "      <td>170</td>\n",
       "      <td>65</td>\n",
       "      <td>1</td>\n",
       "      <td>62.2</td>\n",
       "      <td>2.8</td>\n",
       "    </tr>\n",
       "    <tr>\n",
       "      <th>...</th>\n",
       "      <td>...</td>\n",
       "      <td>...</td>\n",
       "      <td>...</td>\n",
       "      <td>...</td>\n",
       "      <td>...</td>\n",
       "      <td>...</td>\n",
       "      <td>...</td>\n",
       "    </tr>\n",
       "    <tr>\n",
       "      <th>71</th>\n",
       "      <td>Male</td>\n",
       "      <td>35</td>\n",
       "      <td>183</td>\n",
       "      <td>83</td>\n",
       "      <td>3</td>\n",
       "      <td>80.2</td>\n",
       "      <td>2.8</td>\n",
       "    </tr>\n",
       "    <tr>\n",
       "      <th>72</th>\n",
       "      <td>Male</td>\n",
       "      <td>49</td>\n",
       "      <td>177</td>\n",
       "      <td>84</td>\n",
       "      <td>3</td>\n",
       "      <td>79.9</td>\n",
       "      <td>4.1</td>\n",
       "    </tr>\n",
       "    <tr>\n",
       "      <th>73</th>\n",
       "      <td>Male</td>\n",
       "      <td>28</td>\n",
       "      <td>164</td>\n",
       "      <td>85</td>\n",
       "      <td>3</td>\n",
       "      <td>79.7</td>\n",
       "      <td>5.3</td>\n",
       "    </tr>\n",
       "    <tr>\n",
       "      <th>74</th>\n",
       "      <td>Male</td>\n",
       "      <td>40</td>\n",
       "      <td>167</td>\n",
       "      <td>87</td>\n",
       "      <td>3</td>\n",
       "      <td>77.8</td>\n",
       "      <td>9.2</td>\n",
       "    </tr>\n",
       "    <tr>\n",
       "      <th>75</th>\n",
       "      <td>Male</td>\n",
       "      <td>51</td>\n",
       "      <td>175</td>\n",
       "      <td>88</td>\n",
       "      <td>3</td>\n",
       "      <td>81.9</td>\n",
       "      <td>6.1</td>\n",
       "    </tr>\n",
       "  </tbody>\n",
       "</table>\n",
       "<p>76 rows × 7 columns</p>\n",
       "</div>"
      ],
      "text/plain": [
       "    gender  Age  Height  preweight  Diet  weight6weeks  wtloss\n",
       "0   Female   22     159         58     1          54.2     3.8\n",
       "1   Female   46     192         60     1          54.0     6.0\n",
       "2   Female   55     170         64     1          63.3     0.7\n",
       "3   Female   33     171         64     1          61.1     2.9\n",
       "4   Female   50     170         65     1          62.2     2.8\n",
       "..     ...  ...     ...        ...   ...           ...     ...\n",
       "71    Male   35     183         83     3          80.2     2.8\n",
       "72    Male   49     177         84     3          79.9     4.1\n",
       "73    Male   28     164         85     3          79.7     5.3\n",
       "74    Male   40     167         87     3          77.8     9.2\n",
       "75    Male   51     175         88     3          81.9     6.1\n",
       "\n",
       "[76 rows x 7 columns]"
      ]
     },
     "execution_count": 6,
     "metadata": {},
     "output_type": "execute_result"
    }
   ],
   "source": [
    "df['wtloss']=df.preweight-df.weight6weeks\n",
    "df"
   ]
  },
  {
   "cell_type": "code",
   "execution_count": 7,
   "id": "edefe966",
   "metadata": {},
   "outputs": [
    {
     "data": {
      "text/plain": [
       "<Axes: xlabel='gender', ylabel='wtloss'>"
      ]
     },
     "execution_count": 7,
     "metadata": {},
     "output_type": "execute_result"
    },
    {
     "data": {
      "image/png": "[encoded data removed]",
      "text/plain": [
       "<Figure size 640x480 with 1 Axes>"
      ]
     },
     "metadata": {},
     "output_type": "display_data"
    }
   ],
   "source": [
    "sns.boxplot(x=df.gender, y=df.wtloss)"
   ]
  },
  {
   "cell_type": "code",
   "execution_count": 8,
   "id": "b590f859",
   "metadata": {},
   "outputs": [
    {
     "data": {
      "text/plain": [
       "<Axes: xlabel='Diet', ylabel='wtloss'>"
      ]
     },
     "execution_count": 8,
     "metadata": {},
     "output_type": "execute_result"
    },
    {
     "data": {
      "image/png": "[encoded data removed]",
      "text/plain": [
       "<Figure size 640x480 with 1 Axes>"
      ]
     },
     "metadata": {},
     "output_type": "display_data"
    }
   ],
   "source": [
    "sns.boxplot(x=df.Diet, y=df.wtloss)"
   ]
  },
  {
   "cell_type": "code",
   "execution_count": 9,
   "id": "a092ec6b",
   "metadata": {},
   "outputs": [
    {
     "data": {
      "text/plain": [
       "<Axes: xlabel='Diet', ylabel='wtloss'>"
      ]
     },
     "execution_count": 9,
     "metadata": {},
     "output_type": "execute_result"
    },
    {
     "data": {
      "image/png": "[encoded data removed]",
      "text/plain": [
       "<Figure size 640x480 with 1 Axes>"
      ]
     },
     "metadata": {},
     "output_type": "display_data"
    }
   ],
   "source": [
    "sns.boxplot(x=df.Diet, y=df.wtloss, hue=df.gender)"
   ]
  },
  {
   "cell_type": "code",
   "execution_count": 10,
   "id": "fdddf457",
   "metadata": {},
   "outputs": [
    {
     "data": {
      "text/plain": [
       "<Axes: xlabel='Diet', ylabel='wtloss'>"
      ]
     },
     "execution_count": 10,
     "metadata": {},
     "output_type": "execute_result"
    },
    {
     "data": {
      "image/png": "[encoded data removed]",
      "text/plain": [
       "<Figure size 640x480 with 1 Axes>"
      ]
     },
     "metadata": {},
     "output_type": "display_data"
    }
   ],
   "source": [
    "sns.pointplot(y= 'wtloss', x='Diet', hue='gender',data=df)"
   ]
  },
  {
   "cell_type": "code",
   "execution_count": 11,
   "id": "f202b7ae",
   "metadata": {},
   "outputs": [
    {
     "name": "stderr",
     "output_type": "stream",
     "text": [
      "C:\\Users\\Sidd-pc\\AppData\\Local\\Temp\\ipykernel_7300\\1020161736.py:1: FutureWarning: \n",
      "\n",
      "The `ci` parameter is deprecated. Use `errorbar=('ci', 0)` for the same effect.\n",
      "\n",
      "  sns.pointplot(y= 'wtloss', x='Diet', hue='gender',data=df, ci=0)\n"
     ]
    },
    {
     "data": {
      "text/plain": [
       "<Axes: xlabel='Diet', ylabel='wtloss'>"
      ]
     },
     "execution_count": 11,
     "metadata": {},
     "output_type": "execute_result"
    },
    {
     "data": {
      "image/png": "[encoded data removed]",
      "text/plain": [
       "<Figure size 640x480 with 1 Axes>"
      ]
     },
     "metadata": {},
     "output_type": "display_data"
    }
   ],
   "source": [
    "sns.pointplot(y= 'wtloss', x='Diet', hue='gender',data=df, ci=0)"
   ]
  },
  {
   "cell_type": "code",
   "execution_count": 12,
   "id": "5aef111d",
   "metadata": {},
   "outputs": [],
   "source": [
    "#ANOVA-ONE WAY,GENDER"
   ]
  },
  {
   "cell_type": "code",
   "execution_count": 13,
   "id": "dd9cc44c",
   "metadata": {},
   "outputs": [
    {
     "name": "stdout",
     "output_type": "stream",
     "text": [
      "             df      sum_sq   mean_sq         F    PR(>F)\n",
      "C(gender)   1.0    0.278485  0.278485  0.043786  0.834827\n",
      "Residual   74.0  470.650331  6.360140       NaN       NaN\n"
     ]
    }
   ],
   "source": [
    "formula='wtloss~C(gender)'\n",
    "model=ols(formula,df).fit()\n",
    "aov_table=anova_lm(model)\n",
    "print(aov_table)"
   ]
  },
  {
   "cell_type": "code",
   "execution_count": 14,
   "id": "6585618a",
   "metadata": {},
   "outputs": [],
   "source": [
    "# do nt reject Null Hypothesis\n",
    "#gender does not have effect on weight loss"
   ]
  },
  {
   "cell_type": "code",
   "execution_count": 15,
   "id": "5cef55ee",
   "metadata": {},
   "outputs": [],
   "source": [
    "#one way, diet"
   ]
  },
  {
   "cell_type": "code",
   "execution_count": 16,
   "id": "75841ecb",
   "metadata": {},
   "outputs": [
    {
     "name": "stdout",
     "output_type": "stream",
     "text": [
      "            df      sum_sq    mean_sq         F    PR(>F)\n",
      "C(Diet)    2.0   60.527008  30.263504  5.383104  0.006596\n",
      "Residual  73.0  410.401807   5.621943       NaN       NaN\n"
     ]
    }
   ],
   "source": [
    "formula='wtloss~C(Diet)'\n",
    "model=ols(formula,df).fit()\n",
    "aov_table=anova_lm(model)\n",
    "print(aov_table)"
   ]
  },
  {
   "cell_type": "code",
   "execution_count": 17,
   "id": "b5ac449a",
   "metadata": {},
   "outputs": [],
   "source": [
    "#reject Null hypothesis\n",
    "#Diet has an effect on the weight loss\n"
   ]
  },
  {
   "cell_type": "code",
   "execution_count": 18,
   "id": "c4cca8b9",
   "metadata": {},
   "outputs": [],
   "source": [
    "#ANOVA 2 WAY :DIET+GENDER"
   ]
  },
  {
   "cell_type": "code",
   "execution_count": 19,
   "id": "02e32238",
   "metadata": {},
   "outputs": [
    {
     "name": "stdout",
     "output_type": "stream",
     "text": [
      "             df      sum_sq    mean_sq         F    PR(>F)\n",
      "C(Diet)     2.0   60.527008  30.263504  5.311547  0.007052\n",
      "C(gender)   1.0    0.168696   0.168696  0.029608  0.863866\n",
      "Residual   72.0  410.233112   5.697682       NaN       NaN\n"
     ]
    }
   ],
   "source": [
    "formula='wtloss~C(Diet)+C(gender)'\n",
    "model=ols(formula,df).fit()\n",
    "aov_table=anova_lm(model)\n",
    "print(aov_table)"
   ]
  },
  {
   "cell_type": "code",
   "execution_count": 20,
   "id": "b57c60ee",
   "metadata": {},
   "outputs": [],
   "source": [
    "#Diet has an effect but not gender\n",
    "#However , the group means are different\n",
    "\n",
    "#Reject null Hypothesies"
   ]
  },
  {
   "cell_type": "code",
   "execution_count": 21,
   "id": "d62d4790",
   "metadata": {},
   "outputs": [],
   "source": [
    "#which group means are significantly different?\n",
    "#Tukey honest significant difference=Tukey Hsd"
   ]
  },
  {
   "cell_type": "code",
   "execution_count": 22,
   "id": "674c213c",
   "metadata": {},
   "outputs": [],
   "source": [
    "res=stat()"
   ]
  },
  {
   "cell_type": "code",
   "execution_count": 23,
   "id": "9bcafb10",
   "metadata": {},
   "outputs": [
    {
     "name": "stderr",
     "output_type": "stream",
     "text": [
      "C:\\Users\\Sidd-pc\\anaconda3\\Lib\\site-packages\\bioinfokit\\analys.py:388: FutureWarning: The default value of numeric_only in DataFrame.mean is deprecated. In a future version, it will default to False. In addition, specifying 'numeric_only=None' is deprecated. Select only valid columns or specify the value of numeric_only to silence this warning.\n",
      "  (df[xfac_var[1]] == ele2)].mean().loc[res_var]\n",
      "C:\\Users\\Sidd-pc\\anaconda3\\Lib\\site-packages\\bioinfokit\\analys.py:388: FutureWarning: The default value of numeric_only in DataFrame.mean is deprecated. In a future version, it will default to False. In addition, specifying 'numeric_only=None' is deprecated. Select only valid columns or specify the value of numeric_only to silence this warning.\n",
      "  (df[xfac_var[1]] == ele2)].mean().loc[res_var]\n",
      "C:\\Users\\Sidd-pc\\anaconda3\\Lib\\site-packages\\bioinfokit\\analys.py:388: FutureWarning: The default value of numeric_only in DataFrame.mean is deprecated. In a future version, it will default to False. In addition, specifying 'numeric_only=None' is deprecated. Select only valid columns or specify the value of numeric_only to silence this warning.\n",
      "  (df[xfac_var[1]] == ele2)].mean().loc[res_var]\n",
      "C:\\Users\\Sidd-pc\\anaconda3\\Lib\\site-packages\\bioinfokit\\analys.py:388: FutureWarning: The default value of numeric_only in DataFrame.mean is deprecated. In a future version, it will default to False. In addition, specifying 'numeric_only=None' is deprecated. Select only valid columns or specify the value of numeric_only to silence this warning.\n",
      "  (df[xfac_var[1]] == ele2)].mean().loc[res_var]\n",
      "C:\\Users\\Sidd-pc\\anaconda3\\Lib\\site-packages\\bioinfokit\\analys.py:388: FutureWarning: The default value of numeric_only in DataFrame.mean is deprecated. In a future version, it will default to False. In addition, specifying 'numeric_only=None' is deprecated. Select only valid columns or specify the value of numeric_only to silence this warning.\n",
      "  (df[xfac_var[1]] == ele2)].mean().loc[res_var]\n",
      "C:\\Users\\Sidd-pc\\anaconda3\\Lib\\site-packages\\bioinfokit\\analys.py:388: FutureWarning: The default value of numeric_only in DataFrame.mean is deprecated. In a future version, it will default to False. In addition, specifying 'numeric_only=None' is deprecated. Select only valid columns or specify the value of numeric_only to silence this warning.\n",
      "  (df[xfac_var[1]] == ele2)].mean().loc[res_var]\n"
     ]
    },
    {
     "data": {
      "text/html": [
       "<div>\n",
       "<style scoped>\n",
       "    .dataframe tbody tr th:only-of-type {\n",
       "        vertical-align: middle;\n",
       "    }\n",
       "\n",
       "    .dataframe tbody tr th {\n",
       "        vertical-align: top;\n",
       "    }\n",
       "\n",
       "    .dataframe thead th {\n",
       "        text-align: right;\n",
       "    }\n",
       "</style>\n",
       "<table border=\"1\" class=\"dataframe\">\n",
       "  <thead>\n",
       "    <tr style=\"text-align: right;\">\n",
       "      <th></th>\n",
       "      <th>group1</th>\n",
       "      <th>group2</th>\n",
       "      <th>Diff</th>\n",
       "      <th>Lower</th>\n",
       "      <th>Upper</th>\n",
       "      <th>q-value</th>\n",
       "      <th>p-value</th>\n",
       "    </tr>\n",
       "  </thead>\n",
       "  <tbody>\n",
       "    <tr>\n",
       "      <th>0</th>\n",
       "      <td>(Female, 1)</td>\n",
       "      <td>(Female, 2)</td>\n",
       "      <td>0.442857</td>\n",
       "      <td>-2.198556</td>\n",
       "      <td>3.084270</td>\n",
       "      <td>0.694190</td>\n",
       "      <td>0.900000</td>\n",
       "    </tr>\n",
       "    <tr>\n",
       "      <th>1</th>\n",
       "      <td>(Female, 1)</td>\n",
       "      <td>(Female, 3)</td>\n",
       "      <td>2.830000</td>\n",
       "      <td>0.232983</td>\n",
       "      <td>5.427017</td>\n",
       "      <td>4.511936</td>\n",
       "      <td>0.024717</td>\n",
       "    </tr>\n",
       "    <tr>\n",
       "      <th>2</th>\n",
       "      <td>(Female, 1)</td>\n",
       "      <td>(Male, 1)</td>\n",
       "      <td>0.600000</td>\n",
       "      <td>-2.293523</td>\n",
       "      <td>3.493523</td>\n",
       "      <td>0.858570</td>\n",
       "      <td>0.900000</td>\n",
       "    </tr>\n",
       "    <tr>\n",
       "      <th>3</th>\n",
       "      <td>(Female, 1)</td>\n",
       "      <td>(Male, 2)</td>\n",
       "      <td>1.059091</td>\n",
       "      <td>-1.756665</td>\n",
       "      <td>3.874847</td>\n",
       "      <td>1.557362</td>\n",
       "      <td>0.870746</td>\n",
       "    </tr>\n",
       "    <tr>\n",
       "      <th>4</th>\n",
       "      <td>(Female, 1)</td>\n",
       "      <td>(Male, 3)</td>\n",
       "      <td>1.183333</td>\n",
       "      <td>-1.565937</td>\n",
       "      <td>3.932604</td>\n",
       "      <td>1.782136</td>\n",
       "      <td>0.780674</td>\n",
       "    </tr>\n",
       "    <tr>\n",
       "      <th>5</th>\n",
       "      <td>(Female, 2)</td>\n",
       "      <td>(Female, 3)</td>\n",
       "      <td>3.272857</td>\n",
       "      <td>0.675840</td>\n",
       "      <td>5.869874</td>\n",
       "      <td>5.217994</td>\n",
       "      <td>0.005583</td>\n",
       "    </tr>\n",
       "    <tr>\n",
       "      <th>6</th>\n",
       "      <td>(Female, 2)</td>\n",
       "      <td>(Male, 1)</td>\n",
       "      <td>1.042857</td>\n",
       "      <td>-1.850666</td>\n",
       "      <td>3.936380</td>\n",
       "      <td>1.492276</td>\n",
       "      <td>0.896827</td>\n",
       "    </tr>\n",
       "    <tr>\n",
       "      <th>7</th>\n",
       "      <td>(Female, 2)</td>\n",
       "      <td>(Male, 2)</td>\n",
       "      <td>1.501948</td>\n",
       "      <td>-1.313808</td>\n",
       "      <td>4.317704</td>\n",
       "      <td>2.208570</td>\n",
       "      <td>0.609790</td>\n",
       "    </tr>\n",
       "    <tr>\n",
       "      <th>8</th>\n",
       "      <td>(Female, 2)</td>\n",
       "      <td>(Male, 3)</td>\n",
       "      <td>1.626190</td>\n",
       "      <td>-1.123080</td>\n",
       "      <td>4.375461</td>\n",
       "      <td>2.449093</td>\n",
       "      <td>0.513402</td>\n",
       "    </tr>\n",
       "    <tr>\n",
       "      <th>9</th>\n",
       "      <td>(Female, 3)</td>\n",
       "      <td>(Male, 1)</td>\n",
       "      <td>2.230000</td>\n",
       "      <td>-0.623052</td>\n",
       "      <td>5.083052</td>\n",
       "      <td>3.236282</td>\n",
       "      <td>0.212300</td>\n",
       "    </tr>\n",
       "    <tr>\n",
       "      <th>10</th>\n",
       "      <td>(Female, 3)</td>\n",
       "      <td>(Male, 2)</td>\n",
       "      <td>1.770909</td>\n",
       "      <td>-1.003242</td>\n",
       "      <td>4.545060</td>\n",
       "      <td>2.643123</td>\n",
       "      <td>0.431307</td>\n",
       "    </tr>\n",
       "    <tr>\n",
       "      <th>11</th>\n",
       "      <td>(Female, 3)</td>\n",
       "      <td>(Male, 3)</td>\n",
       "      <td>1.646667</td>\n",
       "      <td>-1.059977</td>\n",
       "      <td>4.353310</td>\n",
       "      <td>2.518987</td>\n",
       "      <td>0.484638</td>\n",
       "    </tr>\n",
       "    <tr>\n",
       "      <th>12</th>\n",
       "      <td>(Male, 1)</td>\n",
       "      <td>(Male, 2)</td>\n",
       "      <td>0.459091</td>\n",
       "      <td>-2.594414</td>\n",
       "      <td>3.512596</td>\n",
       "      <td>0.622517</td>\n",
       "      <td>0.900000</td>\n",
       "    </tr>\n",
       "    <tr>\n",
       "      <th>13</th>\n",
       "      <td>(Male, 1)</td>\n",
       "      <td>(Male, 3)</td>\n",
       "      <td>0.583333</td>\n",
       "      <td>-2.408973</td>\n",
       "      <td>3.575640</td>\n",
       "      <td>0.807164</td>\n",
       "      <td>0.900000</td>\n",
       "    </tr>\n",
       "    <tr>\n",
       "      <th>14</th>\n",
       "      <td>(Male, 2)</td>\n",
       "      <td>(Male, 3)</td>\n",
       "      <td>0.124242</td>\n",
       "      <td>-2.792932</td>\n",
       "      <td>3.041416</td>\n",
       "      <td>0.176343</td>\n",
       "      <td>0.900000</td>\n",
       "    </tr>\n",
       "  </tbody>\n",
       "</table>\n",
       "</div>"
      ],
      "text/plain": [
       "         group1       group2      Diff     Lower     Upper   q-value   p-value\n",
       "0   (Female, 1)  (Female, 2)  0.442857 -2.198556  3.084270  0.694190  0.900000\n",
       "1   (Female, 1)  (Female, 3)  2.830000  0.232983  5.427017  4.511936  0.024717\n",
       "2   (Female, 1)    (Male, 1)  0.600000 -2.293523  3.493523  0.858570  0.900000\n",
       "3   (Female, 1)    (Male, 2)  1.059091 -1.756665  3.874847  1.557362  0.870746\n",
       "4   (Female, 1)    (Male, 3)  1.183333 -1.565937  3.932604  1.782136  0.780674\n",
       "5   (Female, 2)  (Female, 3)  3.272857  0.675840  5.869874  5.217994  0.005583\n",
       "6   (Female, 2)    (Male, 1)  1.042857 -1.850666  3.936380  1.492276  0.896827\n",
       "7   (Female, 2)    (Male, 2)  1.501948 -1.313808  4.317704  2.208570  0.609790\n",
       "8   (Female, 2)    (Male, 3)  1.626190 -1.123080  4.375461  2.449093  0.513402\n",
       "9   (Female, 3)    (Male, 1)  2.230000 -0.623052  5.083052  3.236282  0.212300\n",
       "10  (Female, 3)    (Male, 2)  1.770909 -1.003242  4.545060  2.643123  0.431307\n",
       "11  (Female, 3)    (Male, 3)  1.646667 -1.059977  4.353310  2.518987  0.484638\n",
       "12    (Male, 1)    (Male, 2)  0.459091 -2.594414  3.512596  0.622517  0.900000\n",
       "13    (Male, 1)    (Male, 3)  0.583333 -2.408973  3.575640  0.807164  0.900000\n",
       "14    (Male, 2)    (Male, 3)  0.124242 -2.792932  3.041416  0.176343  0.900000"
      ]
     },
     "execution_count": 23,
     "metadata": {},
     "output_type": "execute_result"
    }
   ],
   "source": [
    "res.tukey_hsd(df,res_var='wtloss',\n",
    "              xfac_var=['gender', 'Diet'],\n",
    "              anova_model='wtloss~C(Diet)+C(gender)')\n",
    "res.tukey_summary"
   ]
  },
  {
   "cell_type": "code",
   "execution_count": 24,
   "id": "38b83785",
   "metadata": {},
   "outputs": [],
   "source": [
    "df_res=res.tukey_summary"
   ]
  },
  {
   "cell_type": "code",
   "execution_count": 25,
   "id": "f05c657f",
   "metadata": {},
   "outputs": [
    {
     "data": {
      "text/html": [
       "<div>\n",
       "<style scoped>\n",
       "    .dataframe tbody tr th:only-of-type {\n",
       "        vertical-align: middle;\n",
       "    }\n",
       "\n",
       "    .dataframe tbody tr th {\n",
       "        vertical-align: top;\n",
       "    }\n",
       "\n",
       "    .dataframe thead th {\n",
       "        text-align: right;\n",
       "    }\n",
       "</style>\n",
       "<table border=\"1\" class=\"dataframe\">\n",
       "  <thead>\n",
       "    <tr style=\"text-align: right;\">\n",
       "      <th></th>\n",
       "      <th>group1</th>\n",
       "      <th>group2</th>\n",
       "      <th>Diff</th>\n",
       "      <th>Lower</th>\n",
       "      <th>Upper</th>\n",
       "      <th>q-value</th>\n",
       "      <th>p-value</th>\n",
       "    </tr>\n",
       "  </thead>\n",
       "  <tbody>\n",
       "    <tr>\n",
       "      <th>1</th>\n",
       "      <td>(Female, 1)</td>\n",
       "      <td>(Female, 3)</td>\n",
       "      <td>2.830000</td>\n",
       "      <td>0.232983</td>\n",
       "      <td>5.427017</td>\n",
       "      <td>4.511936</td>\n",
       "      <td>0.024717</td>\n",
       "    </tr>\n",
       "    <tr>\n",
       "      <th>5</th>\n",
       "      <td>(Female, 2)</td>\n",
       "      <td>(Female, 3)</td>\n",
       "      <td>3.272857</td>\n",
       "      <td>0.675840</td>\n",
       "      <td>5.869874</td>\n",
       "      <td>5.217994</td>\n",
       "      <td>0.005583</td>\n",
       "    </tr>\n",
       "  </tbody>\n",
       "</table>\n",
       "</div>"
      ],
      "text/plain": [
       "        group1       group2      Diff     Lower     Upper   q-value   p-value\n",
       "1  (Female, 1)  (Female, 3)  2.830000  0.232983  5.427017  4.511936  0.024717\n",
       "5  (Female, 2)  (Female, 3)  3.272857  0.675840  5.869874  5.217994  0.005583"
      ]
     },
     "execution_count": 25,
     "metadata": {},
     "output_type": "execute_result"
    }
   ],
   "source": [
    "df_res[df_res['p-value']<0.05]"
   ]
  },
  {
   "cell_type": "code",
   "execution_count": 26,
   "id": "b4ad630e",
   "metadata": {},
   "outputs": [],
   "source": [
    "#only diet plan 3 is having a significant interaction effect with the gender in weight loss"
   ]
  },
  {
   "cell_type": "code",
   "execution_count": 27,
   "id": "46b45e05",
   "metadata": {},
   "outputs": [],
   "source": [
    "#The End"
   ]
  },
  {
   "cell_type": "code",
   "execution_count": 28,
   "id": "220eedc6",
   "metadata": {},
   "outputs": [
    {
     "data": {
      "text/plain": [
       "15.25"
      ]
     },
     "execution_count": 28,
     "metadata": {},
     "output_type": "execute_result"
    }
   ],
   "source": [
    "61/4"
   ]
  },
  {
   "cell_type": "code",
   "execution_count": null,
   "id": "450dfdba",
   "metadata": {},
   "outputs": [],
   "source": []
  }
 ],
 "metadata": {
  "kernelspec": {
   "display_name": "Python 3 (ipykernel)",
   "language": "python",
   "name": "python3"
  },
  "language_info": {
   "codemirror_mode": {
    "name": "ipython",
    "version": 3
   },
   "file_extension": ".py",
   "mimetype": "text/x-python",
   "name": "python",
   "nbconvert_exporter": "python",
   "pygments_lexer": "ipython3",
   "version": "3.11.4"
  }
 },
 "nbformat": 4,
 "nbformat_minor": 5
}
